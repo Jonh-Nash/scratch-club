{
 "cells": [
  {
   "cell_type": "code",
   "execution_count": 2,
   "id": "4b250760",
   "metadata": {},
   "outputs": [],
   "source": [
    "import numpy as np\n",
    "import matplotlib.pyplot as plt\n",
    "import sys\n",
    "sys.path.append('./')\n",
    "import gd"
   ]
  },
  {
   "cell_type": "code",
   "execution_count": null,
   "id": "bb11c3cc",
   "metadata": {},
   "outputs": [],
   "source": [
    "def f(xx):\n",
    "    x = xx[0]\n",
    "    y = xx[1]\n",
    "    return 5 * x**2 - 6 * x * y + 3 * y**2 + 6 * x - 6 * y\n",
    "\n",
    "def dx(xx):\n",
    "    x = xx[0]\n",
    "    y = xx[1]\n",
    "    return np.array([10 * x - 6 * y + 6, -6 * x + 6 * y - 6])\n",
    "    "
   ]
  }
 ],
 "metadata": {
  "kernelspec": {
   "display_name": "Python 3",
   "language": "python",
   "name": "python3"
  },
  "language_info": {
   "codemirror_mode": {
    "name": "ipython",
    "version": 3
   },
   "file_extension": ".py",
   "mimetype": "text/x-python",
   "name": "python",
   "nbconvert_exporter": "python",
   "pygments_lexer": "ipython3",
   "version": "3.11.2"
  }
 },
 "nbformat": 4,
 "nbformat_minor": 5
}
