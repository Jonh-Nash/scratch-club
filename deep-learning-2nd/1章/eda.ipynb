{
 "cells": [
  {
   "cell_type": "code",
   "execution_count": 21,
   "id": "1792413c",
   "metadata": {},
   "outputs": [],
   "source": [
    "import numpy as np"
   ]
  },
  {
   "cell_type": "code",
   "execution_count": 22,
   "id": "8e00b0b3",
   "metadata": {},
   "outputs": [
    {
     "data": {
      "text/plain": [
       "array([32])"
      ]
     },
     "execution_count": 22,
     "metadata": {},
     "output_type": "execute_result"
    }
   ],
   "source": [
    "np.dot(np.array([[1, 2, 3]]), np.array([4, 5, 6]))"
   ]
  },
  {
   "cell_type": "code",
   "execution_count": 23,
   "id": "d4fb3bf1",
   "metadata": {},
   "outputs": [
    {
     "data": {
      "text/plain": [
       "array([47])"
      ]
     },
     "execution_count": 23,
     "metadata": {},
     "output_type": "execute_result"
    }
   ],
   "source": [
    "np.dot(np.array([[2, 3, 4]]), np.array([4, 5, 6]))"
   ]
  },
  {
   "cell_type": "code",
   "execution_count": 24,
   "id": "a0f0a8b5",
   "metadata": {},
   "outputs": [
    {
     "data": {
      "text/plain": [
       "array([32, 47])"
      ]
     },
     "execution_count": 24,
     "metadata": {},
     "output_type": "execute_result"
    }
   ],
   "source": [
    "np.dot(np.array([[1, 2, 3], [2, 3, 4]]), np.array([4, 5, 6])) "
   ]
  },
  {
   "cell_type": "code",
   "execution_count": 25,
   "id": "3d1b482e",
   "metadata": {},
   "outputs": [
    {
     "data": {
      "text/plain": [
       "(2, 3)"
      ]
     },
     "execution_count": 25,
     "metadata": {},
     "output_type": "execute_result"
    }
   ],
   "source": [
    "np.array([[1, 2, 3], [2, 3, 4]]).shape"
   ]
  },
  {
   "cell_type": "code",
   "execution_count": 26,
   "id": "7a4319e1",
   "metadata": {},
   "outputs": [
    {
     "name": "stdout",
     "output_type": "stream",
     "text": [
      "[[23 30]]\n",
      "##############3\n",
      "[[23 30]\n",
      " [32 42]\n",
      " [41 54]\n",
      " [50 66]\n",
      " [59 78]]\n"
     ]
    }
   ],
   "source": [
    "## 3 -> 2のNN\n",
    "x = np.array([[1, 2, 3]])\n",
    "w = np.array([[1, 2], [3, 4], [5, 6]])\n",
    "b = np.array([1, 2])\n",
    "print(np.dot(x, w) + b)\n",
    "\n",
    "print(\"##############3\")\n",
    "x = np.array([[1, 2, 3], [2, 3, 4], [3, 4, 5], [4, 5, 6], [5, 6, 7]])\n",
    "w = np.array([[1, 2], [3, 4], [5, 6]])\n",
    "b = np.array([1, 2])\n",
    "print(np.dot(x, w) + b)"
   ]
  },
  {
   "cell_type": "code",
   "execution_count": 27,
   "id": "24e57798",
   "metadata": {},
   "outputs": [
    {
     "data": {
      "text/plain": [
       "array([[-0.67841845,  0.40179873],\n",
       "       [-1.17306231,  0.29951489],\n",
       "       [-0.46346501, -0.15450416]])"
      ]
     },
     "execution_count": 27,
     "metadata": {},
     "output_type": "execute_result"
    }
   ],
   "source": [
    "np.random.randn(3, 2)"
   ]
  },
  {
   "cell_type": "code",
   "execution_count": 28,
   "id": "eac1767a",
   "metadata": {},
   "outputs": [
    {
     "name": "stdout",
     "output_type": "stream",
     "text": [
      "[1, 2, 3, 4, 5, 6]\n"
     ]
    }
   ],
   "source": [
    "aaa = []\n",
    "for layer in [[1, 2], [3, 4], [5, 6]]:\n",
    "    aaa += layer\n",
    "print(aaa)\n"
   ]
  },
  {
   "cell_type": "code",
   "execution_count": 29,
   "id": "708a876c",
   "metadata": {},
   "outputs": [],
   "source": [
    "import sys\n",
    "sys.path.append(\"./\")\n",
    "import forward_net"
   ]
  },
  {
   "cell_type": "code",
   "execution_count": 30,
   "id": "181f302d",
   "metadata": {},
   "outputs": [],
   "source": [
    "x = np.random.randn(10, 2)\n",
    "model = forward_net.TwoLayerNet(2, 4, 3)\n",
    "s = model.predict(x)"
   ]
  },
  {
   "cell_type": "code",
   "execution_count": 32,
   "id": "f04d3bf5",
   "metadata": {},
   "outputs": [
    {
     "name": "stdout",
     "output_type": "stream",
     "text": [
      "[array([[-0.97320524,  0.0922784 , -0.02865354,  0.36199796],\n",
      "       [ 0.43751234,  1.38509927,  0.35913585,  0.79613073]]), array([0., 0., 0., 0.]), array([[ 0.80914661,  1.18646541,  0.11605333],\n",
      "       [-0.76499247, -0.41491759, -0.23716748],\n",
      "       [ 0.23244443, -0.25763472,  0.6423741 ],\n",
      "       [-0.64609845, -1.68298747, -0.39584834]]), array([0., 0., 0.])]\n",
      "[[-0.45466187 -1.0279356  -0.01611018]\n",
      " [-0.60185293 -1.21598071 -0.05606795]\n",
      " [-0.04429113 -0.33033348  0.09856437]\n",
      " [ 0.06753977 -0.21579927  0.13708003]\n",
      " [-0.55522797 -1.14287359 -0.04687872]\n",
      " [ 0.09837793 -0.13101723  0.14164521]\n",
      " [-0.36394543 -0.84437763  0.00560361]\n",
      " [ 0.65936352  0.72871806  0.28055727]\n",
      " [-0.18235547 -0.55890163  0.06014076]\n",
      " [ 0.10407411 -0.16797159  0.15218336]]\n"
     ]
    }
   ],
   "source": [
    "print(model.params)\n",
    "print(s)"
   ]
  },
  {
   "cell_type": "code",
   "execution_count": 4,
   "id": "4792fd7f",
   "metadata": {},
   "outputs": [
    {
     "name": "stdout",
     "output_type": "stream",
     "text": [
      "[[0.1 0.2 0.7]\n",
      " [0.2 0.3 0.5]]\n",
      "[[0 0 1]\n",
      " [0 1 0]]\n",
      "[2 1]\n"
     ]
    },
    {
     "data": {
      "text/plain": [
       "0.7803236360371291"
      ]
     },
     "execution_count": 4,
     "metadata": {},
     "output_type": "execute_result"
    }
   ],
   "source": [
    "import numpy as np\n",
    "\n",
    "y = np.array([[0.1, 0.2, 0.7], [0.2, 0.3, 0.5]])\n",
    "t = np.array([[0, 0, 1], [0, 1, 0]])\n",
    "print(y)\n",
    "print(t)\n",
    "if y.ndim == 1:\n",
    "    t = t.reshape(1, t.size)\n",
    "    y = y.reshape(1, y.size)\n",
    "    \n",
    "# 教師データがone-hot-vectorの場合、正解ラベルのインデックスに変換\n",
    "if t.size == y.size:\n",
    "    t = t.argmax(axis=1)\n",
    "         \n",
    "print(t)\n",
    "\n",
    "batch_size = y.shape[0]\n",
    "\n",
    "-np.sum(np.log(y[np.arange(batch_size), t] + 1e-7)) / batch_size"
   ]
  },
  {
   "cell_type": "code",
   "execution_count": 3,
   "id": "3eed74f8",
   "metadata": {},
   "outputs": [
    {
     "data": {
      "text/plain": [
       "array([0.7, 0.5])"
      ]
     },
     "execution_count": 3,
     "metadata": {},
     "output_type": "execute_result"
    }
   ],
   "source": [
    "import numpy as np\n",
    "\n",
    "x = np.array([[0.1, 0.2, 0.7], [0.2, 0.3, 0.5]])\n",
    "np.max(x, axis=1)"
   ]
  }
 ],
 "metadata": {
  "kernelspec": {
   "display_name": "Python 3",
   "language": "python",
   "name": "python3"
  },
  "language_info": {
   "codemirror_mode": {
    "name": "ipython",
    "version": 3
   },
   "file_extension": ".py",
   "mimetype": "text/x-python",
   "name": "python",
   "nbconvert_exporter": "python",
   "pygments_lexer": "ipython3",
   "version": "3.11.2"
  }
 },
 "nbformat": 4,
 "nbformat_minor": 5
}
